{
 "cells": [
  {
   "cell_type": "code",
   "execution_count": 1,
   "id": "a6383beb",
   "metadata": {},
   "outputs": [],
   "source": [
    "import socket,cv2, pickle,struct"
   ]
  },
  {
   "cell_type": "code",
   "execution_count": 2,
   "id": "5c1bbff0",
   "metadata": {},
   "outputs": [],
   "source": [
    "client_socket = socket.socket(socket.AF_INET,socket.SOCK_STREAM)"
   ]
  },
  {
   "cell_type": "code",
   "execution_count": 3,
   "id": "7c4a6656",
   "metadata": {},
   "outputs": [],
   "source": [
    "host_ip = '192.168.56.1'"
   ]
  },
  {
   "cell_type": "code",
   "execution_count": 4,
   "id": "331b314f",
   "metadata": {},
   "outputs": [],
   "source": [
    "port = 1111"
   ]
  },
  {
   "cell_type": "code",
   "execution_count": 5,
   "id": "0d03586c",
   "metadata": {},
   "outputs": [
    {
     "name": "stdout",
     "output_type": "stream",
     "text": [
      "Socket Created\n"
     ]
    }
   ],
   "source": [
    "print(\"Socket Created\")"
   ]
  },
  {
   "cell_type": "code",
   "execution_count": 6,
   "id": "d8c2075a",
   "metadata": {},
   "outputs": [],
   "source": [
    "client_socket.connect((host_ip,port))"
   ]
  },
  {
   "cell_type": "code",
   "execution_count": 7,
   "id": "307447af",
   "metadata": {},
   "outputs": [],
   "source": [
    "data = b\"\""
   ]
  },
  {
   "cell_type": "code",
   "execution_count": 8,
   "id": "f94bc735",
   "metadata": {},
   "outputs": [],
   "source": [
    "payload_size = struct.calcsize(\"Q\")"
   ]
  },
  {
   "cell_type": "code",
   "execution_count": 9,
   "id": "d0388bca",
   "metadata": {},
   "outputs": [
    {
     "name": "stdout",
     "output_type": "stream",
     "text": [
      "Socket Accept\n"
     ]
    }
   ],
   "source": [
    "print(\"Socket Accept\")"
   ]
  },
  {
   "cell_type": "code",
   "execution_count": null,
   "id": "fa962fd4",
   "metadata": {},
   "outputs": [],
   "source": [
    "while True:\n",
    "    while len(data) < payload_size:\n",
    "        packet = client_socket.recv(4*1024) # 4K\n",
    "        if not packet: break\n",
    "        data+=packet\n",
    "    packed_msg_size = data[:payload_size]\n",
    "    data = data[payload_size:]\n",
    "    msg_size = struct.unpack(\"Q\",packed_msg_size)[0]\n",
    "    \n",
    "    while len(data) < msg_size:\n",
    "        data += client_socket.recv(4*1024)\n",
    "    frame_data = data[:msg_size]\n",
    "    data  = data[msg_size:]\n",
    "    frame = pickle.loads(frame_data)\n",
    "    cv2.imshow(\"RECEIVING VIDEO\",frame)\n",
    "    key = cv2.waitKey(1) & 0xFF\n",
    "    if key  == ord('q'):\n",
    "        break\n",
    "client_socket.close()"
   ]
  },
  {
   "cell_type": "code",
   "execution_count": null,
   "id": "2553b97a",
   "metadata": {},
   "outputs": [],
   "source": []
  }
 ],
 "metadata": {
  "kernelspec": {
   "display_name": "Python 3",
   "language": "python",
   "name": "python3"
  },
  "language_info": {
   "codemirror_mode": {
    "name": "ipython",
    "version": 3
   },
   "file_extension": ".py",
   "mimetype": "text/x-python",
   "name": "python",
   "nbconvert_exporter": "python",
   "pygments_lexer": "ipython3",
   "version": "3.8.8"
  }
 },
 "nbformat": 4,
 "nbformat_minor": 5
}
