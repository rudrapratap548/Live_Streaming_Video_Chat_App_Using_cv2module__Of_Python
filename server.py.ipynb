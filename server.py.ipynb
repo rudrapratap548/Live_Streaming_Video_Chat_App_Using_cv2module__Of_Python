{
 "cells": [
  {
   "cell_type": "code",
   "execution_count": 1,
   "id": "392a8365",
   "metadata": {},
   "outputs": [],
   "source": [
    "import socket, cv2, pickle,struct"
   ]
  },
  {
   "cell_type": "code",
   "execution_count": 2,
   "id": "ecb92f65",
   "metadata": {},
   "outputs": [],
   "source": [
    "server_socket = socket.socket(socket.AF_INET,socket.SOCK_STREAM)"
   ]
  },
  {
   "cell_type": "code",
   "execution_count": 3,
   "id": "372e661c",
   "metadata": {},
   "outputs": [],
   "source": [
    "host_name  = socket.gethostname()"
   ]
  },
  {
   "cell_type": "code",
   "execution_count": 4,
   "id": "4c66177e",
   "metadata": {},
   "outputs": [],
   "source": [
    "host_ip = socket.gethostbyname(host_name)"
   ]
  },
  {
   "cell_type": "code",
   "execution_count": 5,
   "id": "21c83f67",
   "metadata": {},
   "outputs": [
    {
     "name": "stdout",
     "output_type": "stream",
     "text": [
      "HOST IP: 192.168.56.1\n"
     ]
    }
   ],
   "source": [
    "print('HOST IP:',host_ip)"
   ]
  },
  {
   "cell_type": "code",
   "execution_count": 6,
   "id": "05eed95a",
   "metadata": {},
   "outputs": [],
   "source": [
    "port = 1111"
   ]
  },
  {
   "cell_type": "code",
   "execution_count": 7,
   "id": "3916247f",
   "metadata": {},
   "outputs": [],
   "source": [
    "socket_address = ('192.168.56.1',port)"
   ]
  },
  {
   "cell_type": "code",
   "execution_count": 8,
   "id": "4578e028",
   "metadata": {},
   "outputs": [
    {
     "name": "stdout",
     "output_type": "stream",
     "text": [
      "Socket Created\n"
     ]
    }
   ],
   "source": [
    "print(\"Socket Created\")"
   ]
  },
  {
   "cell_type": "code",
   "execution_count": 9,
   "id": "d47be718",
   "metadata": {},
   "outputs": [],
   "source": [
    "server_socket.bind(socket_address)"
   ]
  },
  {
   "cell_type": "code",
   "execution_count": 10,
   "id": "c5a7f084",
   "metadata": {},
   "outputs": [
    {
     "name": "stdout",
     "output_type": "stream",
     "text": [
      "Socket Bind Successfully\n"
     ]
    }
   ],
   "source": [
    "print(\"Socket Bind Successfully\")"
   ]
  },
  {
   "cell_type": "code",
   "execution_count": 11,
   "id": "b8153644",
   "metadata": {},
   "outputs": [],
   "source": [
    "server_socket.listen(5)"
   ]
  },
  {
   "cell_type": "code",
   "execution_count": 12,
   "id": "382f814f",
   "metadata": {},
   "outputs": [
    {
     "name": "stdout",
     "output_type": "stream",
     "text": [
      "LISTENING AT: ('192.168.56.1', 1111)\n"
     ]
    }
   ],
   "source": [
    "print(\"LISTENING AT:\",socket_address)"
   ]
  },
  {
   "cell_type": "code",
   "execution_count": 13,
   "id": "8a7fc308",
   "metadata": {},
   "outputs": [
    {
     "name": "stdout",
     "output_type": "stream",
     "text": [
      "Socket Accept\n"
     ]
    }
   ],
   "source": [
    "print(\"Socket Accept\")"
   ]
  },
  {
   "cell_type": "code",
   "execution_count": null,
   "id": "5b013eb8",
   "metadata": {},
   "outputs": [
    {
     "name": "stdout",
     "output_type": "stream",
     "text": [
      "GOT CONNECTION FROM: ('192.168.56.1', 59880)\n"
     ]
    }
   ],
   "source": [
    "while True:\n",
    "    client_socket,addr = server_socket.accept()\n",
    "    print('GOT CONNECTION FROM:',addr)\n",
    "    if client_socket:\n",
    "        vid = cv2.VideoCapture(0)\n",
    "        \n",
    "        while(vid.isOpened()):\n",
    "            img,frame = vid.read()\n",
    "            a = pickle.dumps(frame)\n",
    "            message = struct.pack(\"Q\",len(a))+a\n",
    "            client_socket.sendall(message)\n",
    "            \n",
    "        \n",
    "            cv2.imshow('TRANSMITTING VIDEO',frame)\n",
    "            key = cv2.waitKey(1) & 0xFF\n",
    "            if key ==ord('q'):\n",
    "                client_socket.close()"
   ]
  },
  {
   "cell_type": "code",
   "execution_count": null,
   "id": "1cd77d2f",
   "metadata": {},
   "outputs": [],
   "source": []
  }
 ],
 "metadata": {
  "kernelspec": {
   "display_name": "Python 3",
   "language": "python",
   "name": "python3"
  },
  "language_info": {
   "codemirror_mode": {
    "name": "ipython",
    "version": 3
   },
   "file_extension": ".py",
   "mimetype": "text/x-python",
   "name": "python",
   "nbconvert_exporter": "python",
   "pygments_lexer": "ipython3",
   "version": "3.8.8"
  }
 },
 "nbformat": 4,
 "nbformat_minor": 5
}
